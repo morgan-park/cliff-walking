{
 "cells": [
  {
   "cell_type": "markdown",
   "metadata": {},
   "source": [
    "##### [CS138] Reinforcement Learning HW3: Cliff Walking With Temporal Difference Learning\n",
    "##### Hye-jung Park"
   ]
  },
  {
   "cell_type": "markdown",
   "metadata": {},
   "source": [
    "##### import libraries"
   ]
  },
  {
   "cell_type": "code",
   "execution_count": 1,
   "metadata": {},
   "outputs": [],
   "source": [
    "import random\n",
    "import matplotlib.pyplot as plt\n",
    "import numpy as np"
   ]
  },
  {
   "cell_type": "markdown",
   "metadata": {},
   "source": [
    "##### Make a list of states for cliff walking (grid)"
   ]
  },
  {
   "cell_type": "code",
   "execution_count": 2,
   "metadata": {},
   "outputs": [],
   "source": [
    "# Generate the state names and make a list of them \n",
    "# Since the cliff walking is on a grid, use a state name as form of coordinate (e.g. s_0_0, s_0_1) so that we know the location of each state in the grid based on the state name.\n",
    "# The grid for cliff walking: \n",
    "    # Grid size: 4 x 12 \n",
    "    #           (x-axis or horizontal: 0 ~ 3, y-axis or vertical: 0 ~ 11)\n",
    "    # start state: s_0_0\n",
    "    # terminal state: s_0_11 (reward: 0 or 1)\n",
    "    # cliff: \n",
    "         # s_1_0, s_2_0, s_3_0, s_4_0, s_5_0, s_6_0, s_7_0, s_8_0, s_9_0, s_10_0\n",
    "         # reward: -100\n",
    "    # reward for all other state: -1  \n",
    "\n",
    "state_names = []\n",
    "for i in range(0, 4):\n",
    "    for j in range(0, 12):\n",
    "        s = 's' + '_' + str(j) + '_' + str(i)\n",
    "        state_names.append(s) "
   ]
  },
  {
   "cell_type": "markdown",
   "metadata": {},
   "source": [
    "##### State As Class\n",
    "##### Track each state's name, coordinate(vertical, horizontal), possible actions, next state, q value for each action. It also includes two functions: 1) updating Q(S, A) value for each action (for on-policy) 2) finding max q value for state-action pair (for off-policy)"
   ]
  },
  {
   "cell_type": "code",
   "execution_count": 3,
   "metadata": {},
   "outputs": [],
   "source": [
    "# class State\n",
    "class State():\n",
    "    def __init__(self, name):\n",
    "        self.name = name\n",
    "        self.x = 0\n",
    "        self.y = 0\n",
    "        self.actions_q = {'up': 0, 'down': 0, 'right': 0, 'left': 0}\n",
    "        self.next_state = {'up': 's_0_0', 'down': 's_0_0', 'right': 's_0_0', 'left': 's_0_0'}\n",
    "        self.reward = {'up': 0, 'down': 0, 'right': 0, 'left': 0}\n",
    "\n",
    "    \n",
    "  # function to get the information on the coordinate (vertical, horizontal)\n",
    "    def get_coordinate(self, name):\n",
    "        coordinate = name.split('_')\n",
    "        self.x = int(coordinate[1])\n",
    "        self.y = int(coordinate[2])\n",
    "\n",
    "  # This function takes action, and then returns the next state and reward.  \n",
    "\n",
    "    def get_next_reward(self, action):\n",
    "        # get next state and reward with the action\n",
    "\n",
    "        # Case 1: for the terminal state\n",
    "        if self.x == 11 and self.y == 0:\n",
    "            self.next_state[action] = 'terminal'\n",
    "            self.reward[action] = 0\n",
    "\n",
    "        # Case 2: for start state with actions down or right\n",
    "        elif self.x == 0 and self.y == 0 and action == 'down':\n",
    "            self.next_state[action] = self.name\n",
    "            self.reward[action] = -1\n",
    "        \n",
    "        elif self.x == 0 and self.y == 0 and action == 'left':\n",
    "            self.next_state[action] = self.name\n",
    "            self.reward[action] = -1\n",
    "        \n",
    "        elif self.x == 0 and self.y == 0 and action == 'right':\n",
    "            self.next_state[action] = 's' + '_' + str(self.x + 1) + '_' + str(self.y)\n",
    "            self.reward[action] = -100\n",
    "\n",
    "        # Case 3: next is left wall, x = 0 and action = left (left wall)\n",
    "        elif self.x == 0 and action == 'left':\n",
    "            self.next_state[action] = self.name\n",
    "            self.reward[action] = -1\n",
    "        \n",
    "        # Case 4: next is right wall, x = 11 and  1 <= y <=3 action = right \n",
    "        elif self.x == 11 and action == 'right' and self.y >= 1 and self.y <= 3:\n",
    "            self.next_state[action] = self.name\n",
    "            self.reward[action] = -1\n",
    "\n",
    "        # Case 5: next is wall up, y = 3 action = up\n",
    "        elif self.y == 3 and action == 'up':\n",
    "            self.next_state[action] = self.name\n",
    "            self.reward[action] = -1\n",
    "\n",
    "        # Case 6: next is a cliff, y = 1 and 1 <= x <= 10 and action = 'down'\n",
    "        elif self.y == 1 and action == 'down' and self.x >= 1 and self.x <= 10:\n",
    "            reward = -100\n",
    "            self.next_state[action] = 's_0_0'\n",
    "            self.reward[action] = -100\n",
    "\n",
    "        # Case 7: cliff sate itself 1 <= x <= 10, y = 0\n",
    "        elif self.y == 0 and self.x >= 1 and self.x <= 10:\n",
    "            self.next_state[action] = 's_0_0'\n",
    "            self.reward[action] = -1\n",
    " \n",
    "        # All other cases\n",
    "        else:\n",
    "            if action == 'up':\n",
    "                self.next_state[action] = 's' + '_' + str(self.x) + '_' + str(self.y + 1)\n",
    "                self.reward[action] = -1\n",
    "            \n",
    "            if action == 'down':\n",
    "                self.next_state[action] = 's' + '_' + str(self.x) + '_' + str(self.y - 1)\n",
    "                self.reward[action] = -1\n",
    "            \n",
    "            if action == 'right':\n",
    "                self.next_state[action] = 's' + '_' + str(self.x + 1) + '_' + str(self.y)\n",
    "                self.reward[action] = -1\n",
    "            \n",
    "            if action == 'left':\n",
    "                self.next_state[action] = 's' + '_' + str(self.x - 1) + '_' + str(self.y)\n",
    "                self.reward[action] = -1\n",
    "    \n",
    "    # This function takes an epsilon, alpha, gamma values and an action. It then choose an action based on an epsilon greedy policy and returns: 1) the state as a class itself 2) the action choosen 3) the current q value for the station-action pair.\n",
    "\n",
    "    def e_greedy(self, epsilon=0.1):\n",
    "\n",
    "        random_n = random.uniform(0, 100)\n",
    "        if random_n <= epsilon * 100:\n",
    "            action_list = ['up', 'down', 'right', 'left']\n",
    "            action_choice = random.choice(action_list)\n",
    "\n",
    "        else:\n",
    "            max_q = max(self.actions_q.values())\n",
    "            max_q_list = []\n",
    "            for key, value in self.actions_q.items():\n",
    "                if value == max_q:\n",
    "                    max_q_list.append(key)\n",
    "\n",
    "            if len(max_q_list) == 1:\n",
    "                action_choice = max_q_list[0]\n",
    "            if len(max_q_list) > 1:\n",
    "                action_choice = random.choice(max_q_list)\n",
    "        \n",
    "        current_q = self.actions_q[action_choice]\n",
    "        \n",
    "        return self, action_choice, current_q \n",
    "            \n",
    "            \n",
    "    # This function gives you the action whose q value of the state-action pair has the max value among others. If there is a tie, use a tie breaker. It then returns: 1) the state as a class itself 2) the action whose current q value is the max 2) the q value of state-action pair.\n",
    "\n",
    "    def max_q(self):\n",
    "        max_q = max(self.actions_q.values())\n",
    "        max_q_list = []\n",
    "        for key, value in self.actions_q.items():\n",
    "            if value == max_q:\n",
    "                max_q_list.append(key)\n",
    "\n",
    "        if len(max_q_list) == 1:\n",
    "            action_choice = max_q_list[0]\n",
    "        if len(max_q_list) > 1:\n",
    "            action_choice = random.choice(max_q_list)\n",
    "    \n",
    "        current_q = self.actions_q[action_choice]\n",
    "\n",
    "        return self, action_choice, current_q \n",
    "\n",
    "    # This function take alpha, gamma values and the q value of next state-action pair (for sarsa: use epsilon greedy function to get the next state-action pair in the class; for q-learning: use max-q function in the class). It then returns and updates the q value of the chosen state-action pair using Sarsa\n",
    "    def learning(self, alpha=0.5, gamma=1, action='up', current_q=0, next_q=0):\n",
    "        r = self.reward[action]\n",
    "        new_q = current_q + (alpha * (r + (gamma * next_q) - current_q))\n",
    "        self.actions_q[action] = new_q\n",
    "\n",
    "        return r"
   ]
  },
  {
   "cell_type": "markdown",
   "metadata": {},
   "source": [
    "##### Functions that find a path and the sum of rewards using Sarsa and Q-Learning"
   ]
  },
  {
   "cell_type": "code",
   "execution_count": 4,
   "metadata": {},
   "outputs": [],
   "source": [
    "# SARSA\n",
    "\n",
    "# This function takes a number of episode to experiment and epsilon values to use for the current state and the next state. It then uses a Sarsa learning, updates Q values for each state-action pair, and returns updated states and a list of sum of rewards eanred from each episode.\n",
    " \n",
    "def sarsa_learning(num_episode=100, epsilon1 = 0.1, epsilon2=0.1):\n",
    "\n",
    "    state_names = []\n",
    "    for i in range(0, 4):\n",
    "        for j in range(0, 12):\n",
    "            s = 's' + '_' + str(j) + '_' + str(i)\n",
    "            state_names.append(s) \n",
    "\n",
    "    state_classes = []\n",
    "    for s in state_names:\n",
    "        # Build a class for each state name \n",
    "        state = State(s)\n",
    "        # Class function, get coordinate and update it in the class\n",
    "        state.get_coordinate(s)\n",
    "        # Class function to get next state and reward per action\n",
    "        for action in state.actions_q.keys():\n",
    "            state.get_next_reward(action)\n",
    "\n",
    "        state_classes.append(state)\n",
    "\n",
    "    # Get a sum of reward eared from the learning process of each episode and make a list of the sum of episodes. \n",
    "    rewards_list = []\n",
    "    for i in range(num_episode):\n",
    "        reward_sum = 0\n",
    "        s = state_classes[0]\n",
    "        next_state_name = s.name\n",
    "        count = 0\n",
    "        while next_state_name != 's_11_0':\n",
    "            state1, action_choice1, current_q1 = s.e_greedy(epsilon=epsilon1)\n",
    "\n",
    "            next_state_name = s.next_state[action_choice1]\n",
    "\n",
    "            index = state_names.index(next_state_name)\n",
    "            next_state = state_classes[index]\n",
    "            state2, action_choice2, current_q2 = next_state.e_greedy(epsilon=epsilon2)\n",
    "\n",
    "            r = s.learning(action=action_choice1, current_q=current_q1, next_q = current_q2)\n",
    "            reward_sum += r\n",
    "        \n",
    "            s = next_state\n",
    "\n",
    "            count += 1\n",
    "\n",
    "        rewards_list.append(reward_sum)\n",
    "\n",
    "    return state_names, state_classes, rewards_list"
   ]
  },
  {
   "cell_type": "code",
   "execution_count": 5,
   "metadata": {},
   "outputs": [],
   "source": [
    "# Q-Learning\n",
    "\n",
    "# This function takes a number of episode to experiment, a list of state names, a list of state-classes. It then uses a Q-learning, updates Q values for each state-action pair, and returns updated states and a list of sum of rewards eanred from each episode.\n",
    "\n",
    "def q_learning(num_episode=100, state_names = [], state_classes = []):\n",
    "  \n",
    "    state_names = []\n",
    "    for i in range(0, 4):\n",
    "        for j in range(0, 12):\n",
    "            s = 's' + '_' + str(j) + '_' + str(i)\n",
    "            state_names.append(s) \n",
    "\n",
    "    state_classes = []\n",
    "    for s in state_names:\n",
    "        # Build a class for each state name \n",
    "        state = State(s)\n",
    "        # Class function, get coordinate and update it in the class\n",
    "        state.get_coordinate(s)\n",
    "        # Class function to get next state and reward per action\n",
    "        for action in state.actions_q.keys():\n",
    "            state.get_next_reward(action)\n",
    "\n",
    "        state_classes.append(state)\n",
    "\n",
    "    # Get a sum of reward eared from the learning process of each episode and make a list of the sum of episodes. \n",
    "    rewards_list = []\n",
    "    for i in range(num_episode):\n",
    "        reward_sum = 0\n",
    "        s = state_classes[0]\n",
    "        next_state_name = s.name\n",
    "        count = 0\n",
    "        while next_state_name != 's_11_0':\n",
    "            state1, action_choice1, current_q1 = s.e_greedy()\n",
    "\n",
    "            next_state_name = s.next_state[action_choice1]\n",
    "\n",
    "            index = state_names.index(next_state_name)\n",
    "            next_state = state_classes[index]\n",
    "            state2, action_choice2, current_q2 = next_state.max_q()\n",
    "\n",
    "            \n",
    "            r = s.learning(action=action_choice1, current_q=current_q1, next_q = current_q2)\n",
    "            reward_sum += r\n",
    "        \n",
    "            s = next_state\n",
    "\n",
    "            count += 1\n",
    "\n",
    "        rewards_list.append(reward_sum)\n",
    "\n",
    "    return state_names, state_classes, rewards_list"
   ]
  },
  {
   "cell_type": "markdown",
   "metadata": {},
   "source": [
    "##### Printing the Path"
   ]
  },
  {
   "cell_type": "code",
   "execution_count": 6,
   "metadata": {},
   "outputs": [],
   "source": [
    "# This function takes a list of state classes. It then prints the path and the sum of rewards; it also returns the path.\n",
    "\n",
    "def print_path(state_classes=[]):\n",
    "    path = []\n",
    "    reward_sum = 0\n",
    "    s = state_classes[0]\n",
    "    next_state_name = s.name\n",
    "    count = 0\n",
    "    while s.name != 's_11_0':\n",
    "        # print(f\"state: {next_state_name}\")\n",
    "        max_q = max(s.actions_q.values())\n",
    "        max_q_list = []\n",
    "        for key, value in s.actions_q.items():\n",
    "            if value == max_q:\n",
    "                max_q_list.append(key)\n",
    "\n",
    "        if len(max_q_list) == 1:\n",
    "            optimal_action = max_q_list[0]\n",
    "        if len(max_q_list) > 1:\n",
    "            optimal_action = random.choice(max_q_list)\n",
    "\n",
    "        # add the state to the path\n",
    "        path.append(s.name)\n",
    "\n",
    "        next_state_name = s.next_state[optimal_action]\n",
    "\n",
    "        reward = s.reward[optimal_action]\n",
    "        reward_sum += reward\n",
    "        index = state_names.index(next_state_name)\n",
    "        next_state = state_classes[index]\n",
    "        s = next_state\n",
    "    print(f\"path: {path}\")\n",
    "    print(f\"reward sum: {reward_sum}\")\n",
    "    return path"
   ]
  },
  {
   "cell_type": "markdown",
   "metadata": {},
   "source": [
    "##### Function to print the cliff"
   ]
  },
  {
   "cell_type": "code",
   "execution_count": 7,
   "metadata": {},
   "outputs": [],
   "source": [
    "# The function, print_cliff, takes a path (returned from the above print_path function) and visualizes the path on the grid for the cliff walking problem. \n",
    "\n",
    "cliff = ['s_1_0', 's_2_0', 's_3_0', 's_4_0', 's_5_0', 's_6_0', 's_7_0', 's_8_0', 's_9_0', 's_10_0']\n",
    "\n",
    "def print_edge():\n",
    "    for i in range(12):\n",
    "        print(\"- - - \", end = \"\")\n",
    "    # first line\n",
    "    print(\"- \")\n",
    "\n",
    "def print_cliff(path=[]):\n",
    "    print_edge()\n",
    "    for j in range(0, 4):\n",
    "        for i in range(0, 12):\n",
    "            x = \"s\" + \"_\" + str(i) + \"_\" + str(3-j)\n",
    "            if x == 's_0_0':\n",
    "                print(\"|\", \" \", end = \"\")\n",
    "                print('S', \" \",end = \"\")\n",
    "            elif x == 's_11_0':\n",
    "                print(\"|\", \" \", end = \"\")\n",
    "                print('G', \" \",end = \"\")\n",
    "            elif x in cliff:\n",
    "                print(\"|\", \" \", end = \"\")\n",
    "                print('*', \" \",end = \"\")\n",
    "            elif x in path:\n",
    "                print(\"|\", \" \", end = \"\")\n",
    "                print('P', \" \", end = \"\")\n",
    "            else:\n",
    "                print(\"|\", \" \", end = \"\")\n",
    "                print(0, \" \",end = \"\")\n",
    "        print(\"|\")\n",
    "    print_edge()"
   ]
  },
  {
   "cell_type": "markdown",
   "metadata": {},
   "source": [
    "##### Main Code"
   ]
  },
  {
   "cell_type": "markdown",
   "metadata": {},
   "source": [
    "##### Sarsa"
   ]
  },
  {
   "cell_type": "code",
   "execution_count": 17,
   "metadata": {},
   "outputs": [
    {
     "name": "stdout",
     "output_type": "stream",
     "text": [
      "path: ['s_0_0', 's_0_1', 's_0_2', 's_0_3', 's_1_3', 's_2_3', 's_3_3', 's_4_3', 's_5_3', 's_6_3', 's_7_3', 's_8_3', 's_9_3', 's_10_3', 's_11_3', 's_11_2', 's_11_1']\n",
      "reward sum: -17\n",
      "- - - - - - - - - - - - - - - - - - - - - - - - - - - - - - - - - - - - - \n",
      "|  P  |  P  |  P  |  P  |  P  |  P  |  P  |  P  |  P  |  P  |  P  |  P  |\n",
      "|  P  |  0  |  0  |  0  |  0  |  0  |  0  |  0  |  0  |  0  |  0  |  P  |\n",
      "|  P  |  0  |  0  |  0  |  0  |  0  |  0  |  0  |  0  |  0  |  0  |  P  |\n",
      "|  S  |  *  |  *  |  *  |  *  |  *  |  *  |  *  |  *  |  *  |  *  |  G  |\n",
      "- - - - - - - - - - - - - - - - - - - - - - - - - - - - - - - - - - - - - \n"
     ]
    }
   ],
   "source": [
    "# Using a Sarsa learning, it finds a path for the cliff walking (# of episodes: 500, alpha: 0.5, epsilon: 0.1); prints the path, and visualizes the path on the grid for the cliff walking problem.\n",
    "\n",
    "sn_s, sc_s, rs= sarsa_learning(num_episode=500)\n",
    "\n",
    "path_s = print_path(state_classes = sc_s)\n",
    "print_cliff(path_s)"
   ]
  },
  {
   "cell_type": "markdown",
   "metadata": {},
   "source": [
    "##### Q_learning"
   ]
  },
  {
   "cell_type": "code",
   "execution_count": 18,
   "metadata": {},
   "outputs": [
    {
     "name": "stdout",
     "output_type": "stream",
     "text": [
      "path: ['s_0_0', 's_0_1', 's_1_1', 's_2_1', 's_3_1', 's_4_1', 's_5_1', 's_6_1', 's_7_1', 's_8_1', 's_9_1', 's_10_1', 's_11_1']\n",
      "reward sum: -13\n",
      "- - - - - - - - - - - - - - - - - - - - - - - - - - - - - - - - - - - - - \n",
      "|  0  |  0  |  0  |  0  |  0  |  0  |  0  |  0  |  0  |  0  |  0  |  0  |\n",
      "|  0  |  0  |  0  |  0  |  0  |  0  |  0  |  0  |  0  |  0  |  0  |  0  |\n",
      "|  P  |  P  |  P  |  P  |  P  |  P  |  P  |  P  |  P  |  P  |  P  |  P  |\n",
      "|  S  |  *  |  *  |  *  |  *  |  *  |  *  |  *  |  *  |  *  |  *  |  G  |\n",
      "- - - - - - - - - - - - - - - - - - - - - - - - - - - - - - - - - - - - - \n"
     ]
    }
   ],
   "source": [
    "# Using a Q-learning, it finds a path for the cliff walking (# of episodes: 500, alpha: 0.5, epsilon: 0.1); prints the path, and visualizes the path on the grid for the cliff walking problem.\n",
    "\n",
    "sn_q, sc_q, rq = q_learning(num_episode=500)\n",
    "\n",
    "path_q = print_path(state_classes = sc_q)\n",
    "print_cliff(path_q)"
   ]
  },
  {
   "cell_type": "markdown",
   "metadata": {},
   "source": [
    "##### Plotting sum of rewards during episode: Sarsa vs. Q-Learning (1 round with 500 episodes. Repeated 100 times. Averaged)"
   ]
  },
  {
   "cell_type": "code",
   "execution_count": 19,
   "metadata": {},
   "outputs": [],
   "source": [
    "# Sarsa learning repeated 100 times (# of episodes: 500, alpha: 0.5, epsilon: 0.1) and averaged\n",
    "\n",
    "rs_2d_list = []\n",
    "rs_2d_list.append(rs)\n",
    "for i in range(999):\n",
    "    sn_s1, sc_s1, rs1 = sarsa_learning(num_episode=500)\n",
    "    rs_2d_list.append(rs1)\n",
    "\n",
    "rs_2d_array = np.array(rs_2d_list)\n",
    "\n",
    "rs_2d_ave = np.average(rs_2d_array, axis=0)"
   ]
  },
  {
   "cell_type": "code",
   "execution_count": 20,
   "metadata": {},
   "outputs": [],
   "source": [
    "# Q-Learning repeated 100 times (# of episodes: 500, alpha: 0.5, epsilon: 0.1) and averaged\n",
    "\n",
    "rq_2d_list = []\n",
    "rq_2d_list.append(rq)\n",
    "for i in range(999):\n",
    "    sn_q1, sc_q1, rq1 = q_learning(num_episode=500)\n",
    "    rq_2d_list.append(rq1)\n",
    "\n",
    "rq_2d_array = np.array(rq_2d_list)\n",
    "\n",
    "rq_2d_ave = np.average(rq_2d_array, axis=0)"
   ]
  },
  {
   "cell_type": "code",
   "execution_count": 21,
   "metadata": {},
   "outputs": [
    {
     "data": {
      "image/png": "[encoded data removed]",
      "text/plain": [
       "<Figure size 432x288 with 1 Axes>"
      ]
     },
     "metadata": {
      "needs_background": "light"
     },
     "output_type": "display_data"
    }
   ],
   "source": [
    "plt.plot(rs_2d_ave, color='blue', label='Sarsa')\n",
    "plt.plot(rq_2d_ave, color='red', label='Q-learning')\n",
    "plt.ylim(-100, -20)\n",
    "#plt.xlim(0, 20)\n",
    "plt.xlabel('Episodes')\n",
    "plt.ylabel('Sum of rewards during episode')\n",
    "plt.legend()\n",
    "plt.show()"
   ]
  }
 ],
 "metadata": {
  "kernelspec": {
   "display_name": "Python 3 (ipykernel)",
   "language": "python",
   "name": "python3"
  },
  "language_info": {
   "codemirror_mode": {
    "name": "ipython",
    "version": 3
   },
   "file_extension": ".py",
   "mimetype": "text/x-python",
   "name": "python",
   "nbconvert_exporter": "python",
   "pygments_lexer": "ipython3",
   "version": "3.8.2"
  },
  "vscode": {
   "interpreter": {
    "hash": "aee8b7b246df8f9039afb4144a1f6fd8d2ca17a180786b69acc140d282b71a49"
   }
  }
 },
 "nbformat": 4,
 "nbformat_minor": 2
}
